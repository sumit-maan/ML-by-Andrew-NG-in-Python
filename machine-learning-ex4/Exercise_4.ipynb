{
 "cells": [
  {
   "cell_type": "markdown",
   "metadata": {},
   "source": [
    "# #                                  Neural Network Learning"
   ]
  },
  {
   "cell_type": "code",
   "execution_count": 42,
   "metadata": {},
   "outputs": [],
   "source": [
    "import numpy as np\n",
    "import scipy\n",
    "from scipy import io\n",
    "from scipy import optimize as op\n",
    "import matplotlib.pyplot as plt\n",
    "%matplotlib inline\n",
    "import pandas as pd\n",
    "import sys\n",
    "\n",
    "### Submission\n",
    "import utils\n",
    "grader = utils.Grader()"
   ]
  },
  {
   "cell_type": "code",
   "execution_count": 43,
   "metadata": {},
   "outputs": [
    {
     "data": {
      "text/plain": [
       "dict_keys(['__header__', '__version__', '__globals__', 'X', 'y'])"
      ]
     },
     "execution_count": 43,
     "metadata": {},
     "output_type": "execute_result"
    }
   ],
   "source": [
    "data = io.loadmat(\"ex4data1.mat\")\n",
    "data.keys()"
   ]
  },
  {
   "cell_type": "code",
   "execution_count": 44,
   "metadata": {},
   "outputs": [],
   "source": [
    "X = data[\"X\"]\n",
    "XX = np.c_[np.ones((X.shape[0],1)), X]\n",
    "Y = data[\"y\"]\n",
    "Y[Y.ravel() == 10] = 0"
   ]
  },
  {
   "cell_type": "code",
   "execution_count": 45,
   "metadata": {},
   "outputs": [
    {
     "data": {
      "image/png": "[encoded data removed]",
      "text/plain": [
       "<Figure size 432x288 with 1 Axes>"
      ]
     },
     "metadata": {
      "needs_background": "light"
     },
     "output_type": "display_data"
    }
   ],
   "source": [
    "def displayData(x):\n",
    "    m, n = X.shape\n",
    "    sample = np.random.choice(m, 20)\n",
    "    plt.imshow(x[sample, 1:].reshape(-1,20).T, cmap=\"Greys\")\n",
    "    \n",
    "displayData(X)"
   ]
  },
  {
   "cell_type": "code",
   "execution_count": 46,
   "metadata": {},
   "outputs": [],
   "source": [
    "weights = io.loadmat(\"ex4weights.mat\")\n",
    "theta1 = weights[\"Theta1\"]\n",
    "theta2 = weights[\"Theta2\"]\n",
    "\n",
    "# swap first and last columns of Theta2, due to legacy from MATLAB indexing, \n",
    "# since the weight file ex3weights.mat was saved based on MATLAB indexing\n",
    "theta2 = np.roll(theta2, 1, axis=0)\n",
    "theta = np.concatenate([theta1.ravel(), theta2.ravel()], axis=0)"
   ]
  },
  {
   "cell_type": "markdown",
   "metadata": {},
   "source": [
    "### # Cost Function Neural Network"
   ]
  },
  {
   "cell_type": "code",
   "execution_count": 47,
   "metadata": {},
   "outputs": [],
   "source": [
    "#funtion to campute activation of next layer\n",
    "def sigmoid(z):\n",
    "    return(1/(1+np.exp(-z)))\n",
    "\n",
    "def sigmoidGradient(z):           #We can also write this funtion as a parameter of a (g'(z) = a(1-a)) and a = sigmoid(z) \n",
    "    return(sigmoid(z)*(1-sigmoid(z)))\n",
    "\n",
    "#cost funtion for NN with regularization (in this case lambda=0),  L1, L2 are input and hidden layers sizes\n",
    "def nnCostFunction(theta, L1, L2, num_labels, x, y, reg = 0.0): \n",
    "    xx = np.c_[np.ones((x.shape[0],1)), x]\n",
    "    m,n  = xx.shape\n",
    "    theta1 = theta[0:(L2*(L1+1))]               # +1 for x0 \n",
    "    theta1 = np.reshape(theta1, (L2,L1+1))       #(25,401)\n",
    "    a1 = xx                                 #(5000,401)\n",
    "    z2 = a1.dot(theta1.T)       #(5000,25)\n",
    "    a2 = sigmoid(z2)           #(5000,25)\n",
    "    a2 = np.c_[np.ones((a2.shape[0],1)), a2]    #(5000,26)  #+1 for a2,0\n",
    "    \n",
    "    theta2 = theta[(L2*(L1+1)):]\n",
    "    theta2 = np.reshape(theta2, (num_labels, L2+1))    # (10,26)\n",
    "    z3 = a2.dot(theta2.T)       #(5000,10)\n",
    "    a3 = sigmoid(z3)           #(5000,10)  #a3=h(x), hypothesis  # a3.T will be (10,5000)\n",
    "    \n",
    "    y_matrix = pd.get_dummies(y.ravel()).values   #y_matrix for 10 outputs (10 vectors)\n",
    "    #Cost\n",
    "    \n",
    "    J = -(np.sum(np.log(a3)*(y_matrix) + np.log(1-a3)*(1-y_matrix)))/m + reg*(np.sum(np.square(theta1[:,1:]))+np.sum(np.square(theta2[:,1:])))/(2*m)\n",
    "\n",
    "###Gradients\n",
    "    d3= a3-y_matrix               #Back propagation error for derivation/gradient  #(5000,10)\n",
    "    d2 = (d3.dot(theta2[:,1:]))*(sigmoidGradient(z2))   #(5000,10) / (10,25) / (5000,25) = #(5000,25)\n",
    "    \n",
    "    #derivatives \n",
    "    Delta1 = d2.T.dot(a1)                   #(25,5000) dot #(5000,401) = #(25,401)\n",
    "    Delta2 = d3.T.dot(a2)                   #(10,5000) dot #(5000,26)  = #(10,26)\n",
    "    \n",
    "    theta1_1 = np.c_[np.ones((theta1.shape[0],1)), theta1[:,1:]]      #(25,401)\n",
    "    theta2_2 = np.c_[np.ones((theta2.shape[0],1)), theta2[:,1:]]      #(10,26)\n",
    "    \n",
    "    #so final derivatives will be \n",
    "    D_theta1 = Delta1/m + (reg*theta1_1)/m        \n",
    "    D_theta2 = Delta2/m + (reg*theta2_2)/m\n",
    "    \n",
    "    gradient = np.concatenate([D_theta1.ravel(), D_theta2.ravel()], axis=0)\n",
    "    return(J, gradient)\n",
    "##to break gradient again in D_theta\n",
    "## D_theta1 = gradient[0:(len(hidden_layer)*(len(input_layer))]\n",
    "## D_theta1 = np.reshape(D_theta1, (hidden_layer,input_layer+1))"
   ]
  },
  {
   "cell_type": "code",
   "execution_count": 48,
   "metadata": {},
   "outputs": [
    {
     "name": "stdout",
     "output_type": "stream",
     "text": [
      "original cost:  0.2876291651613189 \n",
      "\n",
      "cost if (lambda=1):  0.38376985909092365\n"
     ]
    }
   ],
   "source": [
    "L1 = 400\n",
    "L2 = 25\n",
    "num_labels = 10 \n",
    "cost, grad = nnCostFunction(theta,L1, L2, num_labels, X, Y, reg = 0.0)\n",
    "T_1 = np.reshape(grad[0:L2*(L1+1)], (L2,L1+1))\n",
    "T_2 = np.reshape(grad[L2*(L1+1):], (num_labels,L2+1))\n",
    "\n",
    "#cost if regularization parameter(lambda = 1)\n",
    "cost_reg, grad_reg = nnCostFunction(theta, L1, L2, num_labels, X, Y, reg = 1)\n",
    "T_reg_1 = np.reshape(grad_reg[0:L2*(L1+1)], (L2,L1+1))\n",
    "T_reg_2 = np.reshape(grad_reg[L2*(L1+1):], (num_labels,L2+1))\n",
    "print(\"original cost: \", cost, \"\\n\")\n",
    "print(\"cost if (lambda=1): \", cost_reg)"
   ]
  },
  {
   "cell_type": "code",
   "execution_count": 49,
   "metadata": {},
   "outputs": [
    {
     "name": "stdout",
     "output_type": "stream",
     "text": [
      "Sigmoid gradient evaluated at [-1 -0.5 0 0.5 1]:\n",
      "   [0.19661193 0.23500371 0.25       0.23500371 0.19661193]\n"
     ]
    }
   ],
   "source": [
    "z = np.array([-1, -0.5, 0, 0.5, 1])\n",
    "g = sigmoidGradient(z)\n",
    "print('Sigmoid gradient evaluated at [-1 -0.5 0 0.5 1]:\\n  ', g)"
   ]
  },
  {
   "cell_type": "code",
   "execution_count": 50,
   "metadata": {},
   "outputs": [],
   "source": [
    "#L_in and L_out are the input and output units in layers l and l+1\n",
    "#E is epsilon\n",
    "def randInitializeWeights(L_in, L_out):\n",
    "    E = np.sqrt(6)/np.sqrt(L_in+L_out)\n",
    "    #weights , randomly initialized to small values\n",
    "    w = np.random.rand(L_out, L_in+1)*2*E - E\n",
    "    return w\n",
    "\n",
    "#initialize neural network weights/parameters/theta\n",
    "initial_theta1 = randInitializeWeights(L1, L2)\n",
    "initial_theta2 = randInitializeWeights(L2, num_labels)\n",
    "initial_theta = np.concatenate([initial_theta1.ravel(), initial_theta2.ravel()], axis=0)\n"
   ]
  },
  {
   "cell_type": "markdown",
   "metadata": {},
   "source": [
    "### Gradient Check"
   ]
  },
  {
   "cell_type": "code",
   "execution_count": 51,
   "metadata": {},
   "outputs": [],
   "source": [
    "def computeNumericalGradient(J, theta, e = 1e-4):\n",
    "#     num_Grad = np.zeros(theta.shape)\n",
    "#     e_matrix = np.diag(E * np.ones(theta.shape))   #otherwise will give tuple error in loop\n",
    "#     for i in range(theta.size):\n",
    "#         prof, _ = J(theta + e_matrix[:, i])\n",
    "#         loss, _ = J(theta - e_matrix[:, i])\n",
    "#         num_Grad[i] = (prof - loss)/(2*e_matrix)\n",
    "#     return num_Grad\n",
    "\n",
    "    numgrad = np.zeros(theta.shape)\n",
    "    perturb = np.diag(e * np.ones(theta.shape))\n",
    "    for i in range(theta.size):\n",
    "        loss1, _ = J(theta - perturb[:, i])\n",
    "        loss2, _ = J(theta + perturb[:, i])\n",
    "        numgrad[i] = (loss2 - loss1)/(2*e)\n",
    "    return numgrad"
   ]
  },
  {
   "cell_type": "code",
   "execution_count": 52,
   "metadata": {},
   "outputs": [],
   "source": [
    "#gradient check for small data set (with/without regularization)\n",
    "def checkNNGradients(nnCostFunction, reg):\n",
    "    input_layer_size = 3\n",
    "    hidden_layer_size = 5\n",
    "    num_labels = 3\n",
    "    m = 5\n",
    "    nn_param1 = randInitializeWeights(hidden_layer_size, input_layer_size)\n",
    "    nn_param2 = randInitializeWeights(num_labels, hidden_layer_size)\n",
    "    nn_params = np.concatenate([nn_param1.ravel(), nn_param2.ravel()], axis=0)\n",
    "    #Generating random x and y for cost function to use in checckNNGradient function\n",
    "    x = randInitializeWeights(input_layer_size-1, m)\n",
    "    y = np.arange(1, 1+m) % num_labels\n",
    "    \n",
    "    #create a shortcut for NN cost function \n",
    "    cost_func = lambda p: nnCostFunction(p, input_layer_size, hidden_layer_size,num_labels, x, y, reg=0)\n",
    "    cost, grad = cost_func(nn_params)\n",
    "    num_grad = computeNumericalGradient(cost_func, nn_params, e = 1e-4)\n",
    "    \n",
    "    diff = np.linalg.norm(num_grad - grad)/np.linalg.norm(num_grad + grad)\n",
    "    print(\"Difference in Gradients is: \", diff)\n",
    "    if (diff < 1e-9):\n",
    "        print(\"\\nDiff < 1e-9 \\nBack Propagation implementation correctly\")\n",
    "    else:\n",
    "        print(\"\\nDiff > 1e-9 \\nBack Propagation Not implementation correctly\")"
   ]
  },
  {
   "cell_type": "code",
   "execution_count": 53,
   "metadata": {},
   "outputs": [
    {
     "name": "stdout",
     "output_type": "stream",
     "text": [
      "Difference in Gradients is:  6.708261630735886e-11\n",
      "\n",
      "Diff < 1e-9 \n",
      "Back Propagation implementation correctly\n"
     ]
    }
   ],
   "source": [
    "checkNNGradients(nnCostFunction, reg=0)   #without regularization"
   ]
  },
  {
   "cell_type": "code",
   "execution_count": 54,
   "metadata": {},
   "outputs": [
    {
     "name": "stdout",
     "output_type": "stream",
     "text": [
      "Difference in Gradients is:  1.100140517555886e-10\n",
      "\n",
      "Diff < 1e-9 \n",
      "Back Propagation implementation correctly\n"
     ]
    }
   ],
   "source": [
    "checkNNGradients(nnCostFunction, reg=3)    #with regularization "
   ]
  },
  {
   "cell_type": "code",
   "execution_count": 55,
   "metadata": {},
   "outputs": [],
   "source": [
    "#Create a short hand cost funtion to use as single input/single argument\n",
    "\n",
    "# input_layer_size = 3\n",
    "# hidden_layer_size = 5\n",
    "# num_labels = 3\n",
    "# m = 5\n",
    "# nn_param1 = randInitializeWeights(hidden_layer_size, input_layer_size)\n",
    "# nn_param2 = randInitializeWeights(num_labels, hidden_layer_size)\n",
    "# nn_params = np.concatenate([nn_param1.ravel(), nn_param2.ravel()], axis=0)\n",
    "\n",
    "#Generating random x and y for cost function to use in checckNNGradient function\n",
    "\n",
    "# x = randInitializeWeights(input_layer_size-1, m)\n",
    "# y = np.arange(1, 1+m) % num_labels\n",
    "# costFunction = lambda p: nnCostFunction(p, input_layer_size, hidden_layer_size,num_labels, x, y, reg=1)\n",
    "# res = op.minimize(costFunction, nn_params, method=None, jac=True,options={'maxiter': 100})"
   ]
  },
  {
   "cell_type": "code",
   "execution_count": 59,
   "metadata": {},
   "outputs": [
    {
     "ename": "KeyboardInterrupt",
     "evalue": "",
     "output_type": "error",
     "traceback": [
      "\u001b[0;31m---------------------------------------------------------------------------\u001b[0m",
      "\u001b[0;31mKeyboardInterrupt\u001b[0m                         Traceback (most recent call last)",
      "\u001b[0;32m<ipython-input-59-eb9abce890d6>\u001b[0m in \u001b[0;36m<module>\u001b[0;34m()\u001b[0m\n\u001b[1;32m      1\u001b[0m \u001b[0mcostFunction\u001b[0m \u001b[0;34m=\u001b[0m \u001b[0;32mlambda\u001b[0m \u001b[0mp\u001b[0m\u001b[0;34m:\u001b[0m \u001b[0mnnCostFunction\u001b[0m\u001b[0;34m(\u001b[0m\u001b[0mp\u001b[0m\u001b[0;34m,\u001b[0m \u001b[0mL1\u001b[0m\u001b[0;34m,\u001b[0m \u001b[0mL2\u001b[0m\u001b[0;34m,\u001b[0m \u001b[0mnum_labels\u001b[0m\u001b[0;34m,\u001b[0m \u001b[0mX\u001b[0m\u001b[0;34m,\u001b[0m \u001b[0mY\u001b[0m\u001b[0;34m,\u001b[0m \u001b[0mreg\u001b[0m\u001b[0;34m=\u001b[0m\u001b[0;36m1\u001b[0m\u001b[0;34m)\u001b[0m\u001b[0;34m\u001b[0m\u001b[0m\n\u001b[0;32m----> 2\u001b[0;31m \u001b[0mres\u001b[0m \u001b[0;34m=\u001b[0m \u001b[0mop\u001b[0m\u001b[0;34m.\u001b[0m\u001b[0mminimize\u001b[0m\u001b[0;34m(\u001b[0m\u001b[0mcostFunction\u001b[0m\u001b[0;34m,\u001b[0m \u001b[0minitial_theta\u001b[0m\u001b[0;34m,\u001b[0m \u001b[0mmethod\u001b[0m\u001b[0;34m=\u001b[0m\u001b[0;32mNone\u001b[0m\u001b[0;34m,\u001b[0m \u001b[0mjac\u001b[0m\u001b[0;34m=\u001b[0m\u001b[0;32mTrue\u001b[0m\u001b[0;34m,\u001b[0m\u001b[0moptions\u001b[0m\u001b[0;34m=\u001b[0m\u001b[0;34m{\u001b[0m\u001b[0;34m'maxiter'\u001b[0m\u001b[0;34m:\u001b[0m \u001b[0;36m100\u001b[0m\u001b[0;34m}\u001b[0m\u001b[0;34m)\u001b[0m\u001b[0;34m\u001b[0m\u001b[0m\n\u001b[0m",
      "\u001b[0;32m/anaconda2/envs/py3/lib/python3.6/site-packages/scipy/optimize/_minimize.py\u001b[0m in \u001b[0;36mminimize\u001b[0;34m(fun, x0, args, method, jac, hess, hessp, bounds, constraints, tol, callback, options)\u001b[0m\n\u001b[1;32m    595\u001b[0m         \u001b[0;32mreturn\u001b[0m \u001b[0m_minimize_cg\u001b[0m\u001b[0;34m(\u001b[0m\u001b[0mfun\u001b[0m\u001b[0;34m,\u001b[0m \u001b[0mx0\u001b[0m\u001b[0;34m,\u001b[0m \u001b[0margs\u001b[0m\u001b[0;34m,\u001b[0m \u001b[0mjac\u001b[0m\u001b[0;34m,\u001b[0m \u001b[0mcallback\u001b[0m\u001b[0;34m,\u001b[0m \u001b[0;34m**\u001b[0m\u001b[0moptions\u001b[0m\u001b[0;34m)\u001b[0m\u001b[0;34m\u001b[0m\u001b[0m\n\u001b[1;32m    596\u001b[0m     \u001b[0;32melif\u001b[0m \u001b[0mmeth\u001b[0m \u001b[0;34m==\u001b[0m \u001b[0;34m'bfgs'\u001b[0m\u001b[0;34m:\u001b[0m\u001b[0;34m\u001b[0m\u001b[0m\n\u001b[0;32m--> 597\u001b[0;31m         \u001b[0;32mreturn\u001b[0m \u001b[0m_minimize_bfgs\u001b[0m\u001b[0;34m(\u001b[0m\u001b[0mfun\u001b[0m\u001b[0;34m,\u001b[0m \u001b[0mx0\u001b[0m\u001b[0;34m,\u001b[0m \u001b[0margs\u001b[0m\u001b[0;34m,\u001b[0m \u001b[0mjac\u001b[0m\u001b[0;34m,\u001b[0m \u001b[0mcallback\u001b[0m\u001b[0;34m,\u001b[0m \u001b[0;34m**\u001b[0m\u001b[0moptions\u001b[0m\u001b[0;34m)\u001b[0m\u001b[0;34m\u001b[0m\u001b[0m\n\u001b[0m\u001b[1;32m    598\u001b[0m     \u001b[0;32melif\u001b[0m \u001b[0mmeth\u001b[0m \u001b[0;34m==\u001b[0m \u001b[0;34m'newton-cg'\u001b[0m\u001b[0;34m:\u001b[0m\u001b[0;34m\u001b[0m\u001b[0m\n\u001b[1;32m    599\u001b[0m         return _minimize_newtoncg(fun, x0, args, jac, hess, hessp, callback,\n",
      "\u001b[0;32m/anaconda2/envs/py3/lib/python3.6/site-packages/scipy/optimize/optimize.py\u001b[0m in \u001b[0;36m_minimize_bfgs\u001b[0;34m(fun, x0, args, jac, callback, gtol, norm, eps, maxiter, disp, return_all, **unknown_options)\u001b[0m\n\u001b[1;32m   1022\u001b[0m         \u001b[0mA1\u001b[0m \u001b[0;34m=\u001b[0m \u001b[0mI\u001b[0m \u001b[0;34m-\u001b[0m \u001b[0msk\u001b[0m\u001b[0;34m[\u001b[0m\u001b[0;34m:\u001b[0m\u001b[0;34m,\u001b[0m \u001b[0mnumpy\u001b[0m\u001b[0;34m.\u001b[0m\u001b[0mnewaxis\u001b[0m\u001b[0;34m]\u001b[0m \u001b[0;34m*\u001b[0m \u001b[0myk\u001b[0m\u001b[0;34m[\u001b[0m\u001b[0mnumpy\u001b[0m\u001b[0;34m.\u001b[0m\u001b[0mnewaxis\u001b[0m\u001b[0;34m,\u001b[0m \u001b[0;34m:\u001b[0m\u001b[0;34m]\u001b[0m \u001b[0;34m*\u001b[0m \u001b[0mrhok\u001b[0m\u001b[0;34m\u001b[0m\u001b[0m\n\u001b[1;32m   1023\u001b[0m         \u001b[0mA2\u001b[0m \u001b[0;34m=\u001b[0m \u001b[0mI\u001b[0m \u001b[0;34m-\u001b[0m \u001b[0myk\u001b[0m\u001b[0;34m[\u001b[0m\u001b[0;34m:\u001b[0m\u001b[0;34m,\u001b[0m \u001b[0mnumpy\u001b[0m\u001b[0;34m.\u001b[0m\u001b[0mnewaxis\u001b[0m\u001b[0;34m]\u001b[0m \u001b[0;34m*\u001b[0m \u001b[0msk\u001b[0m\u001b[0;34m[\u001b[0m\u001b[0mnumpy\u001b[0m\u001b[0;34m.\u001b[0m\u001b[0mnewaxis\u001b[0m\u001b[0;34m,\u001b[0m \u001b[0;34m:\u001b[0m\u001b[0;34m]\u001b[0m \u001b[0;34m*\u001b[0m \u001b[0mrhok\u001b[0m\u001b[0;34m\u001b[0m\u001b[0m\n\u001b[0;32m-> 1024\u001b[0;31m         Hk = numpy.dot(A1, numpy.dot(Hk, A2)) + (rhok * sk[:, numpy.newaxis] *\n\u001b[0m\u001b[1;32m   1025\u001b[0m                                                  sk[numpy.newaxis, :])\n\u001b[1;32m   1026\u001b[0m \u001b[0;34m\u001b[0m\u001b[0m\n",
      "\u001b[0;31mKeyboardInterrupt\u001b[0m: "
     ]
    }
   ],
   "source": [
    "costFunction = lambda p: nnCostFunction(p, L1, L2, num_labels, X, Y, reg=1)\n",
    "res = op.minimize(costFunction, initial_theta, method=None, jac=True,options={'maxiter': 100})"
   ]
  },
  {
   "cell_type": "code",
   "execution_count": 57,
   "metadata": {},
   "outputs": [
    {
     "ename": "ValueError",
     "evalue": "cannot reshape array of size 18 into shape (10,6)",
     "output_type": "error",
     "traceback": [
      "\u001b[0;31m---------------------------------------------------------------------------\u001b[0m",
      "\u001b[0;31mValueError\u001b[0m                                Traceback (most recent call last)",
      "\u001b[0;32m<ipython-input-57-83354844da59>\u001b[0m in \u001b[0;36m<module>\u001b[0;34m()\u001b[0m\n\u001b[1;32m      5\u001b[0m \u001b[0mnn_final_p1\u001b[0m \u001b[0;34m=\u001b[0m \u001b[0mnp\u001b[0m\u001b[0;34m.\u001b[0m\u001b[0mreshape\u001b[0m\u001b[0;34m(\u001b[0m\u001b[0mnn_final_p1\u001b[0m\u001b[0;34m,\u001b[0m \u001b[0;34m(\u001b[0m\u001b[0mhidden_layer_size\u001b[0m\u001b[0;34m,\u001b[0m\u001b[0minput_layer_size\u001b[0m\u001b[0;34m+\u001b[0m\u001b[0;36m1\u001b[0m\u001b[0;34m)\u001b[0m\u001b[0;34m)\u001b[0m\u001b[0;34m\u001b[0m\u001b[0m\n\u001b[1;32m      6\u001b[0m \u001b[0mnn_final_p2\u001b[0m \u001b[0;34m=\u001b[0m \u001b[0mnn_final_params\u001b[0m\u001b[0;34m[\u001b[0m\u001b[0mhidden_layer_size\u001b[0m\u001b[0;34m*\u001b[0m\u001b[0;34m(\u001b[0m\u001b[0minput_layer_size\u001b[0m\u001b[0;34m+\u001b[0m\u001b[0;36m1\u001b[0m\u001b[0;34m)\u001b[0m\u001b[0;34m:\u001b[0m\u001b[0;34m]\u001b[0m\u001b[0;34m\u001b[0m\u001b[0m\n\u001b[0;32m----> 7\u001b[0;31m \u001b[0mnn_final_p2\u001b[0m \u001b[0;34m=\u001b[0m \u001b[0mnp\u001b[0m\u001b[0;34m.\u001b[0m\u001b[0mreshape\u001b[0m\u001b[0;34m(\u001b[0m\u001b[0mnn_final_p2\u001b[0m\u001b[0;34m,\u001b[0m \u001b[0;34m(\u001b[0m\u001b[0mnum_labels\u001b[0m\u001b[0;34m,\u001b[0m\u001b[0mhidden_layer_size\u001b[0m\u001b[0;34m+\u001b[0m\u001b[0;36m1\u001b[0m\u001b[0;34m)\u001b[0m\u001b[0;34m)\u001b[0m\u001b[0;34m\u001b[0m\u001b[0m\n\u001b[0m",
      "\u001b[0;32m/anaconda2/envs/py3/lib/python3.6/site-packages/numpy/core/fromnumeric.py\u001b[0m in \u001b[0;36mreshape\u001b[0;34m(a, newshape, order)\u001b[0m\n\u001b[1;32m    255\u001b[0m            [5, 6]])\n\u001b[1;32m    256\u001b[0m     \"\"\"\n\u001b[0;32m--> 257\u001b[0;31m     \u001b[0;32mreturn\u001b[0m \u001b[0m_wrapfunc\u001b[0m\u001b[0;34m(\u001b[0m\u001b[0ma\u001b[0m\u001b[0;34m,\u001b[0m \u001b[0;34m'reshape'\u001b[0m\u001b[0;34m,\u001b[0m \u001b[0mnewshape\u001b[0m\u001b[0;34m,\u001b[0m \u001b[0morder\u001b[0m\u001b[0;34m=\u001b[0m\u001b[0morder\u001b[0m\u001b[0;34m)\u001b[0m\u001b[0;34m\u001b[0m\u001b[0m\n\u001b[0m\u001b[1;32m    258\u001b[0m \u001b[0;34m\u001b[0m\u001b[0m\n\u001b[1;32m    259\u001b[0m \u001b[0;34m\u001b[0m\u001b[0m\n",
      "\u001b[0;32m/anaconda2/envs/py3/lib/python3.6/site-packages/numpy/core/fromnumeric.py\u001b[0m in \u001b[0;36m_wrapfunc\u001b[0;34m(obj, method, *args, **kwds)\u001b[0m\n\u001b[1;32m     50\u001b[0m \u001b[0;32mdef\u001b[0m \u001b[0m_wrapfunc\u001b[0m\u001b[0;34m(\u001b[0m\u001b[0mobj\u001b[0m\u001b[0;34m,\u001b[0m \u001b[0mmethod\u001b[0m\u001b[0;34m,\u001b[0m \u001b[0;34m*\u001b[0m\u001b[0margs\u001b[0m\u001b[0;34m,\u001b[0m \u001b[0;34m**\u001b[0m\u001b[0mkwds\u001b[0m\u001b[0;34m)\u001b[0m\u001b[0;34m:\u001b[0m\u001b[0;34m\u001b[0m\u001b[0m\n\u001b[1;32m     51\u001b[0m     \u001b[0;32mtry\u001b[0m\u001b[0;34m:\u001b[0m\u001b[0;34m\u001b[0m\u001b[0m\n\u001b[0;32m---> 52\u001b[0;31m         \u001b[0;32mreturn\u001b[0m \u001b[0mgetattr\u001b[0m\u001b[0;34m(\u001b[0m\u001b[0mobj\u001b[0m\u001b[0;34m,\u001b[0m \u001b[0mmethod\u001b[0m\u001b[0;34m)\u001b[0m\u001b[0;34m(\u001b[0m\u001b[0;34m*\u001b[0m\u001b[0margs\u001b[0m\u001b[0;34m,\u001b[0m \u001b[0;34m**\u001b[0m\u001b[0mkwds\u001b[0m\u001b[0;34m)\u001b[0m\u001b[0;34m\u001b[0m\u001b[0m\n\u001b[0m\u001b[1;32m     53\u001b[0m \u001b[0;34m\u001b[0m\u001b[0m\n\u001b[1;32m     54\u001b[0m     \u001b[0;31m# An AttributeError occurs if the object does not have\u001b[0m\u001b[0;34m\u001b[0m\u001b[0;34m\u001b[0m\u001b[0m\n",
      "\u001b[0;31mValueError\u001b[0m: cannot reshape array of size 18 into shape (10,6)"
     ]
    }
   ],
   "source": [
    "nn_final_cost = res.fun\n",
    "nn_final_params = res.x\n",
    "\n",
    "nn_final_p1 = nn_final_params[0:(hidden_layer_size*(input_layer_size+1))]           \n",
    "nn_final_p1 = np.reshape(nn_final_p1, (hidden_layer_size,input_layer_size+1))\n",
    "nn_final_p2 = nn_final_params[hidden_layer_size*(input_layer_size+1):]\n",
    "nn_final_p2 = np.reshape(nn_final_p2, (num_labels,hidden_layer_size+1))"
   ]
  },
  {
   "cell_type": "code",
   "execution_count": 40,
   "metadata": {},
   "outputs": [],
   "source": [
    "def predict(theta1, theta2, x):\n",
    "    m = x.shape[0]\n",
    "    num_labels = theta2.shape[0]\n",
    "\n",
    "    # probability using hypothesis\n",
    "    p = np.zeros(m)\n",
    "    h1 = sigmoid(np.dot(np.concatenate([np.ones((m, 1)), x], axis=1), theta1.T))\n",
    "    h2 = sigmoid(np.dot(np.concatenate([np.ones((m, 1)), h1], axis=1), theta2.T))\n",
    "    p = np.argmax(h2, axis=1)\n",
    "    return p"
   ]
  },
  {
   "cell_type": "code",
   "execution_count": 41,
   "metadata": {},
   "outputs": [
    {
     "name": "stdout",
     "output_type": "stream",
     "text": [
      "Training Set Accuracy: 40.000000\n"
     ]
    }
   ],
   "source": [
    "pred = predict(nn_final_p1, nn_final_p2, x)\n",
    "print('Training Set Accuracy: %f' % (np.mean(pred == y) * 100))"
   ]
  },
  {
   "cell_type": "code",
   "execution_count": null,
   "metadata": {},
   "outputs": [],
   "source": []
  }
 ],
 "metadata": {
  "kernelspec": {
   "display_name": "python 3",
   "language": "python",
   "name": "py3"
  },
  "language_info": {
   "codemirror_mode": {
    "name": "ipython",
    "version": 3
   },
   "file_extension": ".py",
   "mimetype": "text/x-python",
   "name": "python",
   "nbconvert_exporter": "python",
   "pygments_lexer": "ipython3",
   "version": "3.6.0"
  }
 },
 "nbformat": 4,
 "nbformat_minor": 2
}
