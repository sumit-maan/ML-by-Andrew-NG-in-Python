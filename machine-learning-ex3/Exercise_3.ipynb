{
 "cells": [
  {
   "cell_type": "code",
   "execution_count": 1,
   "metadata": {},
   "outputs": [],
   "source": [
    "import utils\n",
    "grader = utils.Grader()"
   ]
  },
  {
   "cell_type": "code",
   "execution_count": 2,
   "metadata": {},
   "outputs": [],
   "source": [
    "import os\n",
    "import pandas as pd\n",
    "import numpy as np\n",
    "import matplotlib.pyplot as plt\n",
    "import scipy\n",
    "from scipy import io\n",
    "from scipy import optimize as op\n",
    "%matplotlib inline"
   ]
  },
  {
   "cell_type": "code",
   "execution_count": 3,
   "metadata": {},
   "outputs": [
    {
     "data": {
      "text/plain": [
       "dict_keys(['__header__', '__version__', '__globals__', 'X', 'y'])"
      ]
     },
     "execution_count": 3,
     "metadata": {},
     "output_type": "execute_result"
    }
   ],
   "source": [
    "data = io.loadmat(\"ex3data1.mat\")\n",
    "data.keys()"
   ]
  },
  {
   "cell_type": "code",
   "execution_count": 4,
   "metadata": {},
   "outputs": [],
   "source": [
    "X = data[\"X\"]\n",
    "Y = data[\"y\"].ravel()     #taking flattred Y\n",
    "Y[Y==10] = 0            #replacing y=10 to y=0\n",
    "Y = np.c_[Y]            #taking y back to array\n",
    "XX = np.c_[np.ones((data[\"X\"].shape[0],1)), data[\"X\"]]\n"
   ]
  },
  {
   "cell_type": "code",
   "execution_count": 5,
   "metadata": {},
   "outputs": [],
   "source": [
    "m,n = XX.shape"
   ]
  },
  {
   "cell_type": "code",
   "execution_count": 6,
   "metadata": {},
   "outputs": [],
   "source": [
    "def displayData(x):\n",
    "    m, n = x.shape\n",
    "    sample = np.random.choice(m, 20)\n",
    "    plt.imshow(x[sample,1:].reshape(-1,20).T, cmap=\"Greys\")\n",
    "    plt.axis('off')"
   ]
  },
  {
   "cell_type": "code",
   "execution_count": 7,
   "metadata": {},
   "outputs": [
    {
     "data": {
      "image/png": "[encoded data removed]",
      "text/plain": [
       "<Figure size 432x288 with 1 Axes>"
      ]
     },
     "metadata": {
      "needs_background": "light"
     },
     "output_type": "display_data"
    }
   ],
   "source": [
    "displayData(XX)"
   ]
  },
  {
   "cell_type": "code",
   "execution_count": 8,
   "metadata": {},
   "outputs": [],
   "source": [
    "def sigmoid(z):\n",
    "    return(1/(1+np.exp(-z)))"
   ]
  },
  {
   "cell_type": "code",
   "execution_count": 9,
   "metadata": {},
   "outputs": [],
   "source": [
    "def lrCostFunction(theta, xx, y, reg):   #reg stands for lambda\n",
    "    n = xx.shape[1]\n",
    "    theta = np.reshape(theta, (n,1))\n",
    "    m = y.size\n",
    "    y = np.c_[y]\n",
    "    h = sigmoid(xx.dot(theta))\n",
    "    J = 0\n",
    "    J =  -(np.log(h).T.dot(y) + np.log(1-h).T.dot(1-y))/m + (reg*np.sum(np.square(theta)))/(2*m)\n",
    "    if np.isnan(J[0]):\n",
    "        J[0] = np.inf\n",
    "    return (J[0])"
   ]
  },
  {
   "cell_type": "code",
   "execution_count": 10,
   "metadata": {},
   "outputs": [],
   "source": [
    "def lrGradient(theta, xx, y, reg):\n",
    "    n = xx.shape[1]\n",
    "    y = np.c_[y]\n",
    "    m = y.size\n",
    "    theta = np.reshape(theta, (n,1))\n",
    "    h = sigmoid(xx.dot(theta))\n",
    "    grad = np.zeros((n,1))\n",
    "    grad = (xx.T.dot(h-y) + reg*(theta))/m\n",
    "    return np.ndarray.flatten(grad)"
   ]
  },
  {
   "cell_type": "code",
   "execution_count": 11,
   "metadata": {},
   "outputs": [],
   "source": [
    "def oneVsAll(xx, y, num_labels, reg):\n",
    "    k=10\n",
    "    m,n  = xx.shape\n",
    "    y = np.c_[y]\n",
    "    initial_theta = np.zeros((n,1), dtype=float)\n",
    "    all_theta = np.zeros((num_labels, n), dtype=float)\n",
    "    for i in range(num_labels):\n",
    "        res = op.minimize(lrCostFunction, initial_theta, args=(xx, y, reg), jac=lrGradient, method=None, options={'maxiter':50})\n",
    "        all_theta[i] = res.x\n",
    "    return all_theta"
   ]
  },
  {
   "cell_type": "code",
   "execution_count": 12,
   "metadata": {},
   "outputs": [],
   "source": [
    "theta = oneVsAll(XX, Y, 10, 0.1)"
   ]
  },
  {
   "cell_type": "code",
   "execution_count": 13,
   "metadata": {},
   "outputs": [],
   "source": [
    "def predictOneVsAll(all_theta, xx):\n",
    "    m,n = xx.shape\n",
    "    num_labels = all_theta.size\n",
    "    p = np.zeros((n,1), dtype=float)\n",
    "    p = sigmoid(xx.dot(all_theta.T))\n",
    "    p = (np.argmax(p, axis=1)+1)\n",
    "    return p"
   ]
  },
  {
   "cell_type": "code",
   "execution_count": 14,
   "metadata": {},
   "outputs": [
    {
     "name": "stdout",
     "output_type": "stream",
     "text": [
      "Training set accuracy: 10.0 %\n"
     ]
    }
   ],
   "source": [
    "pred = predictOneVsAll(theta, XX)\n",
    "print('Training set accuracy: {} %'.format(np.mean(pred == Y.ravel())*100))"
   ]
  },
  {
   "cell_type": "markdown",
   "metadata": {},
   "source": [
    "### Neural networks"
   ]
  },
  {
   "cell_type": "code",
   "execution_count": 15,
   "metadata": {},
   "outputs": [],
   "source": [
    "weights = io.loadmat(\"ex3weights.mat\")\n",
    "theta1 = weights[\"Theta1\"]\n",
    "theta2 = weights[\"Theta2\"]"
   ]
  },
  {
   "cell_type": "code",
   "execution_count": 16,
   "metadata": {},
   "outputs": [],
   "source": [
    "def predict(theta1, theta2, xx):\n",
    "    z2 = xx.dot(theta1.T)\n",
    "    a2 = sigmoid(z2)\n",
    "    \n",
    "    a2 = np.c_[np.ones((a2.shape[0],1)),a2]\n",
    "    \n",
    "    z3 = a2.dot(theta2.T)\n",
    "    a3 = sigmoid(z3)\n",
    "    \n",
    "    return (np.argmax(a3, axis=1)+1)"
   ]
  },
  {
   "cell_type": "code",
   "execution_count": 17,
   "metadata": {},
   "outputs": [
    {
     "name": "stdout",
     "output_type": "stream",
     "text": [
      "Training set accuracy: 97.52 %\n"
     ]
    }
   ],
   "source": [
    "pred = predict(theta1, theta2, XX)\n",
    "pred[pred==10] = 0\n",
    "print('Training set accuracy: {} %'.format(np.mean(pred == Y.ravel())*100))"
   ]
  },
  {
   "cell_type": "code",
   "execution_count": null,
   "metadata": {},
   "outputs": [],
   "source": []
  }
 ],
 "metadata": {
  "kernelspec": {
   "display_name": "python 3",
   "language": "python",
   "name": "py3"
  },
  "language_info": {
   "codemirror_mode": {
    "name": "ipython",
    "version": 3
   },
   "file_extension": ".py",
   "mimetype": "text/x-python",
   "name": "python",
   "nbconvert_exporter": "python",
   "pygments_lexer": "ipython3",
   "version": "3.6.0"
  }
 },
 "nbformat": 4,
 "nbformat_minor": 2
}
