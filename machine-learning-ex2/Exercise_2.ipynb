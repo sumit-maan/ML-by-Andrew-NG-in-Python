{
 "cells": [
  {
   "cell_type": "markdown",
   "metadata": {},
   "source": [
    "### Logistic Regression"
   ]
  },
  {
   "cell_type": "code",
   "execution_count": 1,
   "metadata": {},
   "outputs": [],
   "source": [
    "import os \n",
    "import pandas as pd\n",
    "import numpy as np\n",
    "import matplotlib.pyplot as plt\n",
    "import scipy\n",
    "from scipy import optimize as op\n",
    "import warnings\n",
    "warnings.filterwarnings('ignore')\n",
    "from sklearn.preprocessing import PolynomialFeatures\n",
    "# %matplotlib notebook"
   ]
  },
  {
   "cell_type": "code",
   "execution_count": 2,
   "metadata": {},
   "outputs": [],
   "source": [
    "data = np.loadtxt(\"ex2data1.txt\", delimiter=\",\")\n",
    "m,n = data.shape\n",
    "X = data[:,0:2]\n",
    "XX = np.concatenate((np.ones((m, 1)), data[:, :-1]), axis=1)\n",
    "Y = data[:,2]"
   ]
  },
  {
   "cell_type": "code",
   "execution_count": 3,
   "metadata": {},
   "outputs": [],
   "source": [
    "def plotData(x,y, labels, x_y_lab):\n",
    "    pos = x[y==1]\n",
    "    neg = x[y==0]\n",
    "    fig = plt.figure(figsize=(8,6), dpi=80 )\n",
    "    plt.scatter(pos[:,0], pos[:,1], c=\"k\", marker=\"+\")\n",
    "    plt.scatter(neg[:,0], neg[:,1], c =\"y\", marker=\"o\")\n",
    "    plt.xlabel(x_y_lab[0])\n",
    "    plt.ylabel(x_y_lab[1])\n",
    "    plt.legend(labels)"
   ]
  },
  {
   "cell_type": "code",
   "execution_count": 4,
   "metadata": {
    "scrolled": false
   },
   "outputs": [
    {
     "data": {
      "image/png": "[encoded data removed]",
      "text/plain": [
       "<Figure size 640x480 with 1 Axes>"
      ]
     },
     "metadata": {
      "needs_background": "light"
     },
     "output_type": "display_data"
    }
   ],
   "source": [
    "x_y_lab = [\"Exam 1 score\", \"Exam 2 score\"]\n",
    "labels = [\"Admitted\", \"Not Admitted\"]\n",
    "plotData(X,Y, labels, x_y_lab)"
   ]
  },
  {
   "cell_type": "code",
   "execution_count": 5,
   "metadata": {},
   "outputs": [],
   "source": [
    "#sigmoid function for Logistic Regression\n",
    "def sigmoid(x):\n",
    "    g = (1)/(1+(np.exp(-x)))\n",
    "    return g"
   ]
  },
  {
   "cell_type": "code",
   "execution_count": 7,
   "metadata": {},
   "outputs": [],
   "source": [
    "def costFunction(theta,xx,y):\n",
    "    theta = np.reshape(theta, (3,1))\n",
    "    m = y.size\n",
    "    J = 0\n",
    "    h = sigmoid(xx.dot(theta)) # get predictions\n",
    "    J = -(np.log(h).T.dot(y)+np.log(1-h).T.dot(1-y))/m\n",
    "    if np.isnan(J):\n",
    "        J = np.inf\n",
    "    return (J)"
   ]
  },
  {
   "cell_type": "code",
   "execution_count": 8,
   "metadata": {},
   "outputs": [],
   "source": [
    "def Gradient(theta,xx,y):\n",
    "    theta = np.reshape(theta, (3,1))\n",
    "    y = np.c_[y]\n",
    "    m = y.size\n",
    "    h = sigmoid(xx.dot(theta))\n",
    "    grad = (xx.T.dot(h-y))/m\n",
    "    return np.ndarray.flatten(grad)"
   ]
  },
  {
   "cell_type": "code",
   "execution_count": 9,
   "metadata": {},
   "outputs": [
    {
     "name": "stdout",
     "output_type": "stream",
     "text": [
      "[0.69314718]\n",
      "[ -0.1        -12.00921659 -11.26284221]\n"
     ]
    }
   ],
   "source": [
    "m,n= XX.shape\n",
    "initial_theta = np.zeros((n,1),dtype=float)\n",
    "Cost_J, gradient = costFunction(initial_theta,XX,Y), Gradient(initial_theta,XX,Y)\n",
    "# gradient = Gradient(initial_theta,XX,Y)\n",
    "print(Cost_J)\n",
    "print(gradient)"
   ]
  },
  {
   "cell_type": "code",
   "execution_count": 10,
   "metadata": {},
   "outputs": [
    {
     "name": "stdout",
     "output_type": "stream",
     "text": [
      "[0.21833019]\n",
      "[0.04290299 2.56623412 2.64679737]\n"
     ]
    }
   ],
   "source": [
    "a = np.array((-24, 0.2, 0.2,), dtype=float)\n",
    "test_theta = np.reshape(a, (3,1))\n",
    "test_J = costFunction(test_theta,XX,Y)\n",
    "test_gradient = Gradient(test_theta,XX,Y)\n",
    "print(test_J)\n",
    "print(test_gradient)"
   ]
  },
  {
   "cell_type": "markdown",
   "metadata": {},
   "source": [
    "### Scipy Optimization (Instead gradient Descent)"
   ]
  },
  {
   "cell_type": "code",
   "execution_count": 11,
   "metadata": {},
   "outputs": [],
   "source": [
    "res = op.minimize(costFunction, initial_theta, args=(XX, Y), method=None, jac=Gradient, options={'maxiter': 400})"
   ]
  },
  {
   "cell_type": "code",
   "execution_count": 12,
   "metadata": {},
   "outputs": [
    {
     "data": {
      "text/plain": [
       "      fun: 0.2034977015895099\n",
       " hess_inv: array([[ 2.85339493e+03, -2.32908823e+01, -2.27416470e+01],\n",
       "       [-2.32908823e+01,  2.04489131e-01,  1.72969525e-01],\n",
       "       [-2.27416470e+01,  1.72969525e-01,  1.96170322e-01]])\n",
       "      jac: array([-2.68557626e-09,  4.36433481e-07, -1.39671757e-06])\n",
       "  message: 'Optimization terminated successfully.'\n",
       "     nfev: 34\n",
       "      nit: 25\n",
       "     njev: 30\n",
       "   status: 0\n",
       "  success: True\n",
       "        x: array([-25.16131634,   0.2062316 ,   0.20147143])"
      ]
     },
     "execution_count": 12,
     "metadata": {},
     "output_type": "execute_result"
    }
   ],
   "source": [
    "res"
   ]
  },
  {
   "cell_type": "code",
   "execution_count": 13,
   "metadata": {},
   "outputs": [
    {
     "name": "stdout",
     "output_type": "stream",
     "text": [
      "Cost(J) at theta using scipy minimized:\n",
      "\n",
      "theta minimized:\n"
     ]
    },
    {
     "data": {
      "text/plain": [
       "(None, array([-25.16131634,   0.2062316 ,   0.20147143]))"
      ]
     },
     "execution_count": 13,
     "metadata": {},
     "output_type": "execute_result"
    }
   ],
   "source": [
    "print(\"Cost(J) at theta using scipy minimized:\"), res.fun\n",
    "print(\"\\ntheta minimized:\"), res.x"
   ]
  },
  {
   "cell_type": "code",
   "execution_count": 14,
   "metadata": {},
   "outputs": [
    {
     "data": {
      "text/plain": [
       "array([0.2034977])"
      ]
     },
     "execution_count": 14,
     "metadata": {},
     "output_type": "execute_result"
    }
   ],
   "source": [
    "theta_min = np.reshape(res.x, (3,1))\n",
    "cost_min = costFunction(theta_min, XX, Y)\n",
    "cost_min"
   ]
  },
  {
   "cell_type": "code",
   "execution_count": 15,
   "metadata": {},
   "outputs": [],
   "source": [
    "def predict(theta, xx):\n",
    "    theta = np.reshape(theta, (3,1))\n",
    "    h = sigmoid(xx.dot(theta))\n",
    "    threshold = 0.5\n",
    "    p = []       \n",
    "    for i in range(len(h)):\n",
    "        if (h[i]>=threshold):\n",
    "            p.append(1)   \n",
    "        else:\n",
    "            p.append(0)\n",
    "    p = np.c_[p] #vector of predicted values (not list)\n",
    "    return p"
   ]
  },
  {
   "cell_type": "code",
   "execution_count": 16,
   "metadata": {},
   "outputs": [
    {
     "name": "stdout",
     "output_type": "stream",
     "text": [
      "Train accuracy 89.0%\n"
     ]
    }
   ],
   "source": [
    "p = predict(theta_min, XX)\n",
    "print('Train accuracy {}%'.format(100 * sum(p.ravel() == Y.ravel()) / p.size))"
   ]
  },
  {
   "cell_type": "markdown",
   "metadata": {},
   "source": [
    "### Plot Decision Boundry"
   ]
  },
  {
   "cell_type": "code",
   "execution_count": 18,
   "metadata": {},
   "outputs": [
    {
     "data": {
      "text/plain": [
       "<matplotlib.contour.QuadContourSet at 0x11be90400>"
      ]
     },
     "execution_count": 18,
     "metadata": {},
     "output_type": "execute_result"
    },
    {
     "data": {
      "image/png": "[encoded data removed]",
      "text/plain": [
       "<Figure size 640x480 with 1 Axes>"
      ]
     },
     "metadata": {
      "needs_background": "light"
     },
     "output_type": "display_data"
    }
   ],
   "source": [
    "x1_min, x1_max = XX[:,1].min(), XX[:,1].max()\n",
    "x2_min, x2_max= XX[:,2].min(), XX[:,2].max()\n",
    "x1, x2 = np.meshgrid(np.linspace(x1_min, x1_max), np.linspace(x2_min, x2_max))\n",
    "h = sigmoid(np.c_[np.ones((x1.ravel().shape[0],1)), x1.ravel(), x2.ravel()].dot(theta_min))\n",
    "h = np.reshape(h, (x1.shape[0],x1.shape[1]))\n",
    "plotData(X,Y, labels, x_y_lab)\n",
    "plt.contour(x1, x2, h, [0.5], linewidths=1, colors='b')"
   ]
  },
  {
   "cell_type": "markdown",
   "metadata": {},
   "source": [
    "### Regularized Logistic Regression"
   ]
  },
  {
   "cell_type": "code",
   "execution_count": 19,
   "metadata": {},
   "outputs": [],
   "source": [
    "data1 = np.loadtxt(\"ex2data2.txt\", delimiter=',')"
   ]
  },
  {
   "cell_type": "code",
   "execution_count": 20,
   "metadata": {},
   "outputs": [],
   "source": [
    "m, n= data1.shape\n",
    "XX1 = np.concatenate((np.ones((m, 1)), data1[:, :-1]), axis=1)\n",
    "X1 = data1[:,0:2]\n",
    "Y1 = data1[:, 2]"
   ]
  },
  {
   "cell_type": "code",
   "execution_count": 21,
   "metadata": {},
   "outputs": [
    {
     "data": {
      "image/png": "[encoded data removed]",
      "text/plain": [
       "<Figure size 640x480 with 1 Axes>"
      ]
     },
     "metadata": {
      "needs_background": "light"
     },
     "output_type": "display_data"
    }
   ],
   "source": [
    "x_y_lab = [\"Microchip Test 1\", \"Microchip Test 2\"]\n",
    "labels = [\"y=1\", \"y=0\"]\n",
    "plotData(X1,Y1, labels, x_y_lab)"
   ]
  },
  {
   "cell_type": "code",
   "execution_count": 22,
   "metadata": {},
   "outputs": [],
   "source": [
    "def mapFeature(x1,x2, degree):\n",
    "    degree = 6\n",
    "    featuremap = []\n",
    "    for i in range(degree):\n",
    "        for j in range(0,i):\n",
    "            featuremap.append(np.power(x1,i-j)*(np.power(x2, j)))\n",
    "    return featuremap"
   ]
  },
  {
   "cell_type": "code",
   "execution_count": 23,
   "metadata": {},
   "outputs": [],
   "source": [
    "poly = PolynomialFeatures(6)\n",
    "XX1 = poly.fit_transform(X1)\n",
    "m, n = XX1.shape"
   ]
  },
  {
   "cell_type": "code",
   "execution_count": 24,
   "metadata": {},
   "outputs": [],
   "source": [
    "def costFunctionReg(theta, xx , y , l): #l is lambda here \n",
    "    m, n = xx.shape\n",
    "    theta = np.reshape(theta, (n,1))\n",
    "    m = y.size\n",
    "    y = np.c_[y]\n",
    "    J = 0\n",
    "    h = sigmoid(xx.dot(theta))\n",
    "    regterm = []\n",
    "    for i in range(len(theta)-1):\n",
    "        regterm.append(theta[i+1]**2)\n",
    "    reg_f = (np.sum(regterm))*l/(2*m)\n",
    "    J = -(np.log(h).T.dot(y) + np.log(1-h).T.dot(1-y))/m + reg_f\n",
    "    if np.isnan(J[0]):\n",
    "        J[0] = np.inf\n",
    "    return (J[0])"
   ]
  },
  {
   "cell_type": "code",
   "execution_count": 25,
   "metadata": {},
   "outputs": [],
   "source": [
    "def GradientReg(theta, xx , y , l):\n",
    "    m, n = xx.shape\n",
    "    theta = np.reshape(theta, (n,1))\n",
    "    m = y.size\n",
    "    y = np.c_[y]\n",
    "    h = sigmoid(xx.dot(theta))\n",
    "    grad = np.zeros((n,1))\n",
    "    grad = (xx.T.dot(h-y)+float(l)*(theta))/m\n",
    "    return(np.ndarray.flatten(grad))"
   ]
  },
  {
   "cell_type": "code",
   "execution_count": 26,
   "metadata": {},
   "outputs": [
    {
     "data": {
      "text/plain": [
       "array([0.69314718])"
      ]
     },
     "execution_count": 26,
     "metadata": {},
     "output_type": "execute_result"
    }
   ],
   "source": [
    "initial_theta = np.zeros((n,1), dtype=float)\n",
    "cost_J  = costFunctionReg(initial_theta, XX1 , Y1 , 1)\n",
    "gradient = GradientReg(initial_theta, XX1 , Y1 , 1)\n",
    "cost_J "
   ]
  },
  {
   "cell_type": "code",
   "execution_count": 28,
   "metadata": {},
   "outputs": [],
   "source": [
    "res1 = op.minimize(costFunctionReg, initial_theta, args=(XX1, Y1, 1), jac = GradientReg, method=None,options={'maxiter': 400})\n"
   ]
  },
  {
   "cell_type": "code",
   "execution_count": 29,
   "metadata": {},
   "outputs": [],
   "source": [
    "cost_reg = res1.fun\n",
    "theta_reg = res1.x"
   ]
  },
  {
   "cell_type": "code",
   "execution_count": 30,
   "metadata": {},
   "outputs": [
    {
     "data": {
      "text/plain": [
       "0.5300109345445478"
      ]
     },
     "execution_count": 30,
     "metadata": {},
     "output_type": "execute_result"
    }
   ],
   "source": [
    "cost_reg"
   ]
  },
  {
   "cell_type": "code",
   "execution_count": 31,
   "metadata": {},
   "outputs": [
    {
     "data": {
      "text/plain": [
       "array([ 1.13905468,  0.63561419,  1.14968144, -1.8671565 , -0.93002944,\n",
       "       -1.17283912,  0.12525871, -0.37879674, -0.37243299, -0.19872063,\n",
       "       -1.43486075, -0.11446387, -0.57707841, -0.29370381, -1.16788635,\n",
       "       -0.25414287, -0.23001402, -0.06942998, -0.27019065, -0.30109071,\n",
       "       -0.55955345, -1.06378139, -0.01754239, -0.28333104, -0.01385566,\n",
       "       -0.31456354, -0.15796289, -1.02391622])"
      ]
     },
     "execution_count": 31,
     "metadata": {},
     "output_type": "execute_result"
    }
   ],
   "source": [
    "theta_reg"
   ]
  },
  {
   "cell_type": "code",
   "execution_count": 32,
   "metadata": {},
   "outputs": [
    {
     "data": {
      "text/plain": [
       "<matplotlib.contour.QuadContourSet at 0x11bcb54a8>"
      ]
     },
     "execution_count": 32,
     "metadata": {},
     "output_type": "execute_result"
    },
    {
     "data": {
      "image/png": "[encoded data removed]",
      "text/plain": [
       "<Figure size 640x480 with 1 Axes>"
      ]
     },
     "metadata": {
      "needs_background": "light"
     },
     "output_type": "display_data"
    }
   ],
   "source": [
    "x1_min, x1_max = XX1[:,1].min(), XX1[:,1].max()\n",
    "x2_min, x2_max= XX1[:,2].min(), XX1[:,2].max()\n",
    "x1, x2 = np.meshgrid(np.linspace(x1_min, x1_max), np.linspace(x2_min, x2_max))\n",
    "h = sigmoid(poly.fit_transform(np.c_[x1.ravel(), x2.ravel()]).dot(theta_reg))\n",
    "h = np.reshape(h, (x1.shape[0],x1.shape[1]))\n",
    "x_y_lab = [\"Microchip Test 1\", \"Microchip Test 2\"]\n",
    "labels = [\"y=1\", \"y=0\"]\n",
    "plotData(X1,Y1, labels, x_y_lab)\n",
    "plt.contour(x1, x2, h, [0.5], linewidths=1, colors='g')"
   ]
  }
 ],
 "metadata": {
  "kernelspec": {
   "display_name": "python 3",
   "language": "python",
   "name": "py3"
  },
  "language_info": {
   "codemirror_mode": {
    "name": "ipython",
    "version": 3
   },
   "file_extension": ".py",
   "mimetype": "text/x-python",
   "name": "python",
   "nbconvert_exporter": "python",
   "pygments_lexer": "ipython3",
   "version": "3.6.0"
  }
 },
 "nbformat": 4,
 "nbformat_minor": 2
}
