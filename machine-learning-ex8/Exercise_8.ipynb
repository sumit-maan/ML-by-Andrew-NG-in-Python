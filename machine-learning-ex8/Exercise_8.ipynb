{
 "cells": [
  {
   "cell_type": "code",
   "execution_count": 903,
   "metadata": {},
   "outputs": [],
   "source": [
    "import os \n",
    "import numpy as np\n",
    "import scipy\n",
    "from scipy import stats\n",
    "from scipy import io\n",
    "import pandas as pd\n",
    "import matplotlib.pyplot as plt\n",
    "%matplotlib inline\n",
    "import warnings\n",
    "warnings.filterwarnings(\"ignore\")"
   ]
  },
  {
   "cell_type": "markdown",
   "metadata": {},
   "source": [
    "## Anomaly Detection"
   ]
  },
  {
   "cell_type": "code",
   "execution_count": 904,
   "metadata": {},
   "outputs": [
    {
     "name": "stdout",
     "output_type": "stream",
     "text": [
      "dict_keys(['__header__', '__version__', '__globals__', 'X', 'Xval', 'yval'])\n"
     ]
    }
   ],
   "source": [
    "data1 = io.loadmat(\"ex8data1.mat\")\n",
    "print(data1.keys())\n",
    "X1 = data1[\"X\"]\n",
    "X1val = data1[\"Xval\"]\n",
    "Y1val = data1[\"yval\"]"
   ]
  },
  {
   "cell_type": "code",
   "execution_count": 905,
   "metadata": {},
   "outputs": [
    {
     "data": {
      "image/png": "[encoded data removed]",
      "text/plain": [
       "<Figure size 432x288 with 1 Axes>"
      ]
     },
     "metadata": {
      "needs_background": "light"
     },
     "output_type": "display_data"
    }
   ],
   "source": [
    "def plotData(x):\n",
    "    plt.scatter(x[:,0], x[:,1], 20, marker=\"x\", facecolor=\"b\", edgecolors=\"b\")\n",
    "    plt.xlim(0,30)\n",
    "    plt.ylim(0,30)\n",
    "    plt.ylabel(\"Throughput(mb/s)\")\n",
    "    plt.xlabel(\"Latency (ms)\")\n",
    "#Plotting the data set\n",
    "plotData(X1)"
   ]
  },
  {
   "cell_type": "code",
   "execution_count": 906,
   "metadata": {},
   "outputs": [],
   "source": [
    "def estimateGaussian(x):\n",
    "    m,n = x.shape\n",
    "    mu =  np.mean(x, axis=0)\n",
    "    sigma2 = np.var(x, axis=0)\n",
    "    return mu, sigma2"
   ]
  },
  {
   "cell_type": "code",
   "execution_count": 907,
   "metadata": {},
   "outputs": [],
   "source": [
    "mu, sigma2 = estimateGaussian(X1)"
   ]
  },
  {
   "cell_type": "code",
   "execution_count": 908,
   "metadata": {},
   "outputs": [],
   "source": [
    "def multivariateGaussian(x,mu,sigma):\n",
    "    m,n = x.shape\n",
    "    k = mu.size\n",
    "    z = np.square(x-mu)/(2*sigma)\n",
    "    p = np.ones(m)\n",
    "    for i in range(n):\n",
    "        p1 = ((2*np.pi*sigma[i])**(-1/2))*np.exp(-z[:,i])\n",
    "        p = p*p1\n",
    "    return p"
   ]
  },
  {
   "cell_type": "code",
   "execution_count": 909,
   "metadata": {},
   "outputs": [],
   "source": [
    "# p = multivariateGaussian(X1,mu,sigma2)\n",
    "\n",
    "p = np.zeros((X1.shape[0], X1.shape[1]))  \n",
    "p[:,0] = stats.norm(mu[0], sigma2[0]).pdf(X1[:,0])  \n",
    "p[:,1] = stats.norm(mu[1], sigma2[1]).pdf(X1[:,1])"
   ]
  },
  {
   "cell_type": "code",
   "execution_count": 910,
   "metadata": {},
   "outputs": [],
   "source": [
    "def visualizeFit(x,mu,sigma):\n",
    "    x1,x2 = np.meshgrid(np.arange(0,35.5,.5), np.arange(0,35.5, 5))\n",
    "    z = multivariateGaussian(np.stack([x1.ravel(), x2.ravel()],axis=1), mu, sigma)\n",
    "    z = np.reshape(z, x1.shape)\n",
    "    plotData(X1)\n",
    "    if np.all(abs(z) != np.inf):\n",
    "        plt.contour(x1, x2, z, levels=[10**exp for exp in range(-2,0,3)])"
   ]
  },
  {
   "cell_type": "code",
   "execution_count": 911,
   "metadata": {},
   "outputs": [
    {
     "data": {
      "image/png": "[encoded data removed]",
      "text/plain": [
       "<Figure size 432x288 with 1 Axes>"
      ]
     },
     "metadata": {
      "needs_background": "light"
     },
     "output_type": "display_data"
    }
   ],
   "source": [
    "visualizeFit(X1,mu,sigma2)\n",
    "plt.tight_layout()"
   ]
  },
  {
   "cell_type": "code",
   "execution_count": 912,
   "metadata": {},
   "outputs": [],
   "source": [
    "def selectThreshold(yval, pval):\n",
    "    bestE = 0\n",
    "    bestF1 = 0\n",
    "    F1 = 0\n",
    "    for epsilon in np.linspace(min(pval.ravel()), max(pval.ravel()), 1000):\n",
    "        pred = pval < epsilon\n",
    "        tp = np.sum(np.logical_and(pred == 1, yval == 1)).astype(np.float)\n",
    "        fp = np.sum(np.logical_and(pred == 1, yval== 0)).astype(np.float)\n",
    "        fn = np.sum(np.logical_and(pred == 0, yval == 1)).astype(np.float)\n",
    "        tn = np.sum(np.logical_and(pred == 0, yval == 0)).astype(np.float)\n",
    "        pre = tp/(tp+fp)\n",
    "        rec = tp/(tp+fn)\n",
    "        F1 = 2*pre*rec/(pre+rec)\n",
    "        if F1>bestF1:\n",
    "            bestF1 = F1\n",
    "            bestE = epsilon\n",
    "    return bestE, bestF1"
   ]
  },
  {
   "cell_type": "code",
   "execution_count": 913,
   "metadata": {},
   "outputs": [
    {
     "data": {
      "text/plain": [
       "(0.050793045434594314, 0.056956724057701254)"
      ]
     },
     "execution_count": 913,
     "metadata": {},
     "output_type": "execute_result"
    }
   ],
   "source": [
    "# pval = multivariateGaussian(X1val, mu, sigma2)\n",
    "pval = np.zeros((X1val.shape[0], X1val.shape[1]))  \n",
    "pval[:,0] = stats.norm(mu[0], sigma2[0]).pdf(X1val[:,0])  \n",
    "pval[:,1] = stats.norm(mu[1], sigma2[1]).pdf(X1val[:,1])\n",
    "pval = pval[:,0]*pval[:,1]\n",
    "\n",
    "E, F_score = selectThreshold(Y1val, pval)\n",
    "E, F_score"
   ]
  },
  {
   "cell_type": "code",
   "execution_count": 914,
   "metadata": {},
   "outputs": [],
   "source": [
    "outliers = np.where(p < E)"
   ]
  },
  {
   "cell_type": "code",
   "execution_count": 915,
   "metadata": {},
   "outputs": [
    {
     "data": {
      "text/plain": [
       "(array([147, 170, 300, 301, 301, 303, 303, 304, 305, 306, 306]),\n",
       " array([0, 0, 1, 0, 1, 0, 1, 0, 0, 0, 1]))"
      ]
     },
     "execution_count": 915,
     "metadata": {},
     "output_type": "execute_result"
    }
   ],
   "source": [
    "outliers"
   ]
  },
  {
   "cell_type": "code",
   "execution_count": 916,
   "metadata": {},
   "outputs": [
    {
     "data": {
      "text/plain": [
       "<matplotlib.collections.PathCollection at 0x1a232ff5f8>"
      ]
     },
     "execution_count": 916,
     "metadata": {},
     "output_type": "execute_result"
    },
    {
     "data": {
      "image/png": "[encoded data removed]",
      "text/plain": [
       "<Figure size 432x288 with 1 Axes>"
      ]
     },
     "metadata": {
      "needs_background": "light"
     },
     "output_type": "display_data"
    }
   ],
   "source": [
    "plotData(X1)\n",
    "visualizeFit(X1,mu,sigma2)\n",
    "plt.scatter(X1[outliers[0],0], X1[outliers[0],1], 60, marker=\"o\", edgecolors=\"r\")"
   ]
  },
  {
   "cell_type": "code",
   "execution_count": 917,
   "metadata": {},
   "outputs": [
    {
     "name": "stdout",
     "output_type": "stream",
     "text": [
      "dict_keys(['__header__', '__version__', '__globals__', 'X', 'Xval', 'yval'])\n"
     ]
    }
   ],
   "source": [
    "data2 = io.loadmat(\"ex8data2.mat\")\n",
    "print(data2.keys())\n",
    "X2 = data2[\"X\"]\n",
    "X2val = data2[\"Xval\"]\n",
    "Y2val = data2[\"yval\"]"
   ]
  },
  {
   "cell_type": "code",
   "execution_count": 686,
   "metadata": {},
   "outputs": [],
   "source": [
    "mu2, sig2 = estimateGaussian(X2)\n",
    "p2 = multivariateGaussian(X2, mu2, sig2)\n",
    "p2val = multivariateGaussian(X2val, mu2, sig2)"
   ]
  },
  {
   "cell_type": "code",
   "execution_count": 687,
   "metadata": {},
   "outputs": [
    {
     "data": {
      "text/plain": [
       "(7.113614384114647e-16, 0.18165137614678897)"
      ]
     },
     "execution_count": 687,
     "metadata": {},
     "output_type": "execute_result"
    }
   ],
   "source": [
    "E2, F2  = selectThreshold(Y2val, p2val)\n",
    "E2, F2"
   ]
  },
  {
   "cell_type": "code",
   "execution_count": 688,
   "metadata": {},
   "outputs": [
    {
     "data": {
      "text/plain": [
       "118"
      ]
     },
     "execution_count": 688,
     "metadata": {},
     "output_type": "execute_result"
    }
   ],
   "source": [
    "outliers2 = np.where(p2 < 1.38e-18)\n",
    "np.count_nonzero(outliers2)"
   ]
  },
  {
   "cell_type": "markdown",
   "metadata": {},
   "source": [
    "## Recommender System"
   ]
  },
  {
   "cell_type": "code",
   "execution_count": 802,
   "metadata": {},
   "outputs": [
    {
     "name": "stdout",
     "output_type": "stream",
     "text": [
      "dict_keys(['__header__', '__version__', '__globals__', 'Y', 'R'])\n"
     ]
    }
   ],
   "source": [
    "data3 = io.loadmat(\"ex8_movies.mat\")\n",
    "print(data3.keys())\n",
    "Y, R = data3[\"Y\"], data3[\"R\"]"
   ]
  },
  {
   "cell_type": "code",
   "execution_count": 803,
   "metadata": {},
   "outputs": [
    {
     "data": {
      "text/plain": [
       "Text(0.5,0,'Users')"
      ]
     },
     "execution_count": 803,
     "metadata": {},
     "output_type": "execute_result"
    },
    {
     "data": {
      "image/png": "[encoded data removed]",
      "text/plain": [
       "<Figure size 576x576 with 2 Axes>"
      ]
     },
     "metadata": {
      "needs_background": "light"
     },
     "output_type": "display_data"
    }
   ],
   "source": [
    "plt.figure(figsize=(8, 8))\n",
    "plt.imshow(Y)\n",
    "plt.colorbar()\n",
    "plt.ylabel('Movies')\n",
    "plt.xlabel('Users')"
   ]
  },
  {
   "cell_type": "code",
   "execution_count": 804,
   "metadata": {},
   "outputs": [
    {
     "name": "stdout",
     "output_type": "stream",
     "text": [
      "dict_keys(['__header__', '__version__', '__globals__', 'X', 'Theta', 'num_users', 'num_movies', 'num_features'])\n"
     ]
    }
   ],
   "source": [
    "data3_params = io.loadmat(\"ex8_movieParams.mat\")\n",
    "print(data3_params.keys())\n",
    "X = data3_params[\"X\"]\n",
    "theta = data3_params[\"Theta\"]\n",
    "nu, nm, nf = data3_params[\"num_users\"], data3_params[\"num_movies\"], data3_params[\"num_features\"]"
   ]
  },
  {
   "cell_type": "code",
   "execution_count": 877,
   "metadata": {},
   "outputs": [],
   "source": [
    "#params = flatterned arrays of X and theta as J is minimizing both X and theta\n",
    "def cofiCostFunc(params, y, r , num_users, num_movies, num_features, reg):\n",
    "    x = np.reshape(params[:num_movies*num_features], (num_movies,num_features))\n",
    "    theta = np.reshape(params[num_movies*num_features:], (num_users, num_features))\n",
    "    J = 0\n",
    "    x_grad = np.zeros(X.shape)\n",
    "    theta_grad = np.zeros(theta.shape)\n",
    "    \n",
    "    J =  0.5*((np.sum(np.square(np.multiply(x.dot(theta.T),r)-y)))+ reg*(np.sum(np.square(theta)) + np.sum(np.square(x))))\n",
    "    \n",
    "    x_grad = (np.multiply(x.dot(theta.T),r)-y).dot(theta) + reg*x\n",
    "    theta_grad  = (np.multiply(x.dot(theta.T),r)-y).T.dot(x) + reg*theta\n",
    "    \n",
    "    grad = np.concatenate([x_grad.ravel(), theta_grad.ravel()])\n",
    "    return J, grad"
   ]
  },
  {
   "cell_type": "code",
   "execution_count": 878,
   "metadata": {},
   "outputs": [],
   "source": [
    "#Reduced size data\n",
    "num_users = 4; num_movies = 5; num_features = 3\n",
    "X_red = X[0:num_movies,0:num_features]\n",
    "theta_red = theta[0:num_users, 0:num_features]\n",
    "Y_red = Y[0:num_movies, 0:num_users]\n",
    "R_red = R[0:num_movies, 0:num_users]\n",
    "#parameters using x and theta\n",
    "params = np.concatenate([X_red.ravel(), theta_red.ravel()])\n",
    "J, grad= cofiCostFunc(params, Y_red, R_red , num_users, num_movies, num_features, reg=0)"
   ]
  }
 ],
 "metadata": {
  "kernelspec": {
   "display_name": "python 3",
   "language": "python",
   "name": "py3"
  },
  "language_info": {
   "codemirror_mode": {
    "name": "ipython",
    "version": 3
   },
   "file_extension": ".py",
   "mimetype": "text/x-python",
   "name": "python",
   "nbconvert_exporter": "python",
   "pygments_lexer": "ipython3",
   "version": "3.6.0"
  }
 },
 "nbformat": 4,
 "nbformat_minor": 2
}
