{
 "cells": [
  {
   "cell_type": "code",
   "execution_count": 1,
   "metadata": {},
   "outputs": [],
   "source": [
    "import numpy as np\n",
    "import pandas as pd\n",
    "import matplotlib.pyplot as plt\n",
    "# tells matplotlib to embed plots within the notebook\n",
    "%matplotlib inline"
   ]
  },
  {
   "cell_type": "markdown",
   "metadata": {},
   "source": [
    "## Warmup Exersize"
   ]
  },
  {
   "cell_type": "code",
   "execution_count": 2,
   "metadata": {},
   "outputs": [
    {
     "data": {
      "text/plain": [
       "array([[1., 0., 0., 0., 0.],\n",
       "       [0., 1., 0., 0., 0.],\n",
       "       [0., 0., 1., 0., 0.],\n",
       "       [0., 0., 0., 1., 0.],\n",
       "       [0., 0., 0., 0., 1.]])"
      ]
     },
     "execution_count": 2,
     "metadata": {},
     "output_type": "execute_result"
    }
   ],
   "source": [
    "# a unity matrix of order 5 (5*5)\n",
    "def WarmUpExercise():\n",
    "    A = np.identity(5)\n",
    "    return A\n",
    "\n",
    "WarmUpExercise()"
   ]
  },
  {
   "cell_type": "markdown",
   "metadata": {},
   "source": [
    "## LR with one variable"
   ]
  },
  {
   "cell_type": "code",
   "execution_count": 3,
   "metadata": {},
   "outputs": [],
   "source": [
    "data = np.loadtxt('ex1data1.txt', delimiter=',')\n",
    "#split X and Y\n",
    "X = np.c_[np.ones(data.shape[0]),data[:,0]]\n",
    "y = data[:,1]"
   ]
  },
  {
   "cell_type": "code",
   "execution_count": 4,
   "metadata": {},
   "outputs": [
    {
     "data": {
      "image/png": "[encoded data removed]",
      "text/plain": [
       "<Figure size 640x480 with 1 Axes>"
      ]
     },
     "metadata": {
      "needs_background": "light"
     },
     "output_type": "display_data"
    }
   ],
   "source": [
    "fig = plt.figure(figsize=(8,6), dpi=80)\n",
    "plt.scatter(X[:,1], y, c=\"r\", marker=\"x\")\n",
    "plt.xlabel(\"Population of city in 10,000s\")\n",
    "plt.ylabel(\"profit in $10,000s\")\n",
    "plt.xticks(np.arange(4,25,2))\n",
    "plt.yticks(np.arange(-5,25,5))\n",
    "plt.show()"
   ]
  },
  {
   "cell_type": "code",
   "execution_count": 5,
   "metadata": {},
   "outputs": [],
   "source": [
    "#we need to minimize the cost funtion\n",
    "#cost funtion & Gradient descent\n",
    "def computeCost(X, y, theta):\n",
    "    X = np.c_[np.ones(data.shape[0]),data[:,0]]\n",
    "    m = y.size\n",
    "    n = X.shape[1]\n",
    "    theta = np.reshape(theta,(n,1))\n",
    "    h = X.dot(theta)\n",
    "    cost_func_list = []\n",
    "    for i in range(m):\n",
    "        cost_func_list.append(np.square(h.ravel()[i]-y[i]))\n",
    "    return np.sum(cost_func_list)/(2*m)"
   ]
  },
  {
   "cell_type": "code",
   "execution_count": 6,
   "metadata": {},
   "outputs": [
    {
     "name": "stdout",
     "output_type": "stream",
     "text": [
      "With theta = [0 ; 0] \n",
      "Cost computed =  32.072733877455676\n",
      "Expected cost value (approx) 32.07\n",
      "\n"
     ]
    }
   ],
   "source": [
    "J = computeCost(X, y, theta=[[0],[0]])\n",
    "print('With theta = [0 ; 0] \\nCost computed = ', J)\n",
    "print('Expected cost value (approx) 32.07\\n')"
   ]
  },
  {
   "cell_type": "code",
   "execution_count": 7,
   "metadata": {},
   "outputs": [
    {
     "name": "stdout",
     "output_type": "stream",
     "text": [
      "\n",
      "With theta = [-1 ; 2]\n",
      "Cost computed = 54.24245508201238\n",
      "Expected cost value (approx) 54.24\n",
      "\n"
     ]
    }
   ],
   "source": [
    "J = computeCost(X, y, theta=[[-1],[2]])\n",
    "print('\\nWith theta = [-1 ; 2]\\nCost computed =', J)\n",
    "print('Expected cost value (approx) 54.24\\n')"
   ]
  },
  {
   "cell_type": "markdown",
   "metadata": {},
   "source": [
    "### Gradient Descent"
   ]
  },
  {
   "cell_type": "code",
   "execution_count": 8,
   "metadata": {},
   "outputs": [],
   "source": [
    "def GradientDescent(X,y,theta,alpha,num_itern):\n",
    "    m = y.size\n",
    "    n = X.shape[1]\n",
    "    J_history = []\n",
    "    theta = np.reshape(theta,(n,1))\n",
    "    for i in range(num_itern):\n",
    "        theta1 = theta[0][0]\n",
    "        theta2 = theta[1][0]\n",
    "        s1 = []\n",
    "        s2 = []\n",
    "        for j in range(m):\n",
    "            h = X.dot(theta)\n",
    "            s1.append(X[j][0]*(h[j][0]-y[j]))\n",
    "            s2.append(X[j][1]*(h[j][0]-y[j]))\n",
    "            \n",
    "        temptheta1 = theta1\n",
    "        temptheta2 = theta2\n",
    "        theta1 = temptheta1 - alpha*(np.sum(s1)/m)\n",
    "        theta2 = temptheta2 - alpha*(np.sum(s2)/m)\n",
    "        theta = [[theta1],[theta2]]\n",
    "        J_history.append(computeCost(X, y, theta))\n",
    "    return (theta, J_history)"
   ]
  },
  {
   "cell_type": "code",
   "execution_count": 9,
   "metadata": {},
   "outputs": [
    {
     "name": "stdout",
     "output_type": "stream",
     "text": [
      "[[-3.6302914394043597], [1.166362350335582]]\n"
     ]
    },
    {
     "data": {
      "image/png": "[encoded data removed]",
      "text/plain": [
       "<Figure size 432x288 with 1 Axes>"
      ]
     },
     "metadata": {
      "needs_background": "light"
     },
     "output_type": "display_data"
    }
   ],
   "source": [
    "theta = np.zeros((2,1))\n",
    "alpha = .01\n",
    "num_itern = 1500\n",
    "theta, J = GradientDescent(X,y,theta, .01, 1500)\n",
    "print(theta)\n",
    "plt.plot(J)\n",
    "plt.ylabel('Cost J')\n",
    "plt.xlabel('Iterations')\n",
    "plt.show()"
   ]
  },
  {
   "cell_type": "code",
   "execution_count": 10,
   "metadata": {},
   "outputs": [],
   "source": [
    "theta0 = theta[0][0]\n",
    "theta1 = theta[1][0]\n",
    "XX = np.arange(5,25) # range of X values lies between 5,25\n",
    "YY = theta0+theta1*XX"
   ]
  },
  {
   "cell_type": "code",
   "execution_count": 11,
   "metadata": {},
   "outputs": [
    {
     "data": {
      "image/png": "[encoded data removed]",
      "text/plain": [
       "<Figure size 640x480 with 1 Axes>"
      ]
     },
     "metadata": {
      "needs_background": "light"
     },
     "output_type": "display_data"
    }
   ],
   "source": [
    "fig = plt.figure(figsize=(8,6), dpi=80)\n",
    "plt.scatter(X[:,1], y, c=\"r\", marker=\"x\")\n",
    "plt.plot(XX,YY, label='Linear regression by (Gradient descent)')\n",
    "plt.xlabel(\"Population of city in 10,000s\")\n",
    "plt.ylabel(\"profit in $10,000s\")\n",
    "plt.xticks(np.arange(4,25,2))\n",
    "plt.yticks(np.arange(-5,25,5))\n",
    "\n",
    "#plot using linear regression\n",
    "import sklearn\n",
    "from sklearn.linear_model import LinearRegression as LR\n",
    "lin_reg = LR()\n",
    "lin_reg.fit(X[:,1].reshape(-1,1), y.ravel())\n",
    "plt.plot(XX, lin_reg.intercept_+lin_reg.coef_*XX, label='Linear regression Model')\n",
    "plt.legend(loc = 'upper left')\n",
    "plt.show()"
   ]
  },
  {
   "cell_type": "code",
   "execution_count": 12,
   "metadata": {},
   "outputs": [],
   "source": [
    "theta = np.asarray(theta)"
   ]
  },
  {
   "cell_type": "code",
   "execution_count": 13,
   "metadata": {},
   "outputs": [
    {
     "name": "stdout",
     "output_type": "stream",
     "text": [
      "[40819.05197031]\n",
      "[81641.73423205]\n"
     ]
    }
   ],
   "source": [
    "print(theta.T.dot([1, 35000]))\n",
    "print(theta.T.dot([1, 70000]))"
   ]
  },
  {
   "cell_type": "markdown",
   "metadata": {},
   "source": [
    "### Optional (LR with multiple variables)\n",
    "### Feature Normalization and Geadient Descent"
   ]
  },
  {
   "cell_type": "code",
   "execution_count": 14,
   "metadata": {},
   "outputs": [],
   "source": [
    "data1 = np.loadtxt(\"ex1data2.txt\",  delimiter=',')"
   ]
  },
  {
   "cell_type": "code",
   "execution_count": 15,
   "metadata": {},
   "outputs": [],
   "source": [
    "x1 = data1[:,0]\n",
    "x2 = data1[:,1]\n",
    "y = data1[:,2]\n",
    "mu = [np.mean(x1), np.mean(x2), np.mean(y) ]\n",
    "std = [np.std(x1), np.std(x2), np.std(y)]"
   ]
  },
  {
   "cell_type": "code",
   "execution_count": 16,
   "metadata": {},
   "outputs": [],
   "source": [
    "x1 = (x1-mu[0])/std[0]\n",
    "x2 = (x2-mu[1])/std[1]\n",
    "y = (y-mu[2])/std[2]"
   ]
  },
  {
   "cell_type": "code",
   "execution_count": 17,
   "metadata": {},
   "outputs": [],
   "source": [
    "data1 = np.stack([x1, x2, y], axis=1)"
   ]
  },
  {
   "cell_type": "code",
   "execution_count": 18,
   "metadata": {},
   "outputs": [],
   "source": [
    "def computeCostMulti(X, y, theta):\n",
    "    X = np.c_[np.ones(data1.shape[0]),data1]\n",
    "    n = X.shape[1]\n",
    "    theta = np.reshape(theta,(n,1))\n",
    "    m = y.size\n",
    "    h = X.dot(theta)\n",
    "    cost_func_list = []\n",
    "    for i in range(m):\n",
    "        cost_func_list.append(np.square(h[i][0]-y[i]))\n",
    "    return np.sum(cost_func_list)/(2*m)"
   ]
  },
  {
   "cell_type": "code",
   "execution_count": 19,
   "metadata": {},
   "outputs": [],
   "source": [
    "J = computeCostMulti(X, y, theta=[[0],[0],[0],[0]])"
   ]
  },
  {
   "cell_type": "code",
   "execution_count": 20,
   "metadata": {},
   "outputs": [],
   "source": [
    "def NormalEqn(X,y):\n",
    "    X = np.c_[np.ones(data1.shape[0]),data1]\n",
    "    theta = np.matmul(np.matmul(np.linalg.inv(np.matmul(X.T,X)),X.T),y)\n",
    "    return(theta)"
   ]
  }
 ],
 "metadata": {
  "kernelspec": {
   "display_name": "python 3",
   "language": "python",
   "name": "py3"
  },
  "language_info": {
   "codemirror_mode": {
    "name": "ipython",
    "version": 3
   },
   "file_extension": ".py",
   "mimetype": "text/x-python",
   "name": "python",
   "nbconvert_exporter": "python",
   "pygments_lexer": "ipython3",
   "version": "3.6.0"
  }
 },
 "nbformat": 4,
 "nbformat_minor": 2
}
